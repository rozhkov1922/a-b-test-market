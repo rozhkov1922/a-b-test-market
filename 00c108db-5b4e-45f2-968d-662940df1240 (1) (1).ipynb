{
 "cells": [
  {
   "cell_type": "markdown",
   "metadata": {},
   "source": [
    "В данном проекте я проверю гипотезы для увеличения выручки. С этой целью я приоритизирую гипотезы, запущу A/B-тест и проанализирую его результаты "
   ]
  },
  {
   "cell_type": "markdown",
   "metadata": {},
   "source": [
    "План:\n",
    "\n",
    "Часть 1\n",
    "\n",
    "1.Приоритизация гипотезы на основе ICE \n",
    "2.Приоритизация гипотезы на основе RICE \n",
    "3.Сопоставление приоритизаций гипотез\n",
    "\n",
    "Часть 2\n",
    "\n",
    "1.График кумулятивной выручки по группам\n",
    "2.График кумулятивного среднего чека по группам\n",
    "3.График относительного изменения кумулятивного среднего чека группы B к группе A\n",
    "4.График кумулятивного среднего количества заказов на посетителя по группам. \n",
    "5.График относительного изменения кумулятивного среднего количества заказов на посетителя группы B к группе A\n",
    "6.Точечный график количества заказов по пользователям.\n",
    "7.95-й и 99-й перцентили количества заказов на пользователя\n",
    "8.Точечный график стоимостей заказов\n",
    "9.95-й и 99-й перцентили стоимости заказов\n",
    "10.Статистическую значимость различий в среднем количестве заказов на посетителя между группами по «сырым» данным\n",
    "11.Статистическую значимость различий в среднем чеке заказа между группами по «сырым» данным\n",
    "12.Статистическую значимость различий в среднем количестве заказов на посетителя между группами по «очищенным» данным\n",
    "13.Статистическую значимость различий в среднем чеке заказа между группами по «очищенным» данным\n",
    "14.Результаты"
   ]
  },
  {
   "cell_type": "code",
   "execution_count": 1,
   "metadata": {},
   "outputs": [],
   "source": [
    "from scipy import stats as st\n",
    "import numpy as np\n",
    "import math as mth\n",
    "import pandas as pd\n",
    "import datetime as dt\n",
    "import matplotlib.pyplot as plt\n"
   ]
  },
  {
   "cell_type": "markdown",
   "metadata": {},
   "source": [
    "Добавляю все необходимые библиотеки"
   ]
  },
  {
   "cell_type": "code",
   "execution_count": 2,
   "metadata": {},
   "outputs": [],
   "source": [
    "data = pd.read_csv('/datasets/hypothesis.csv')\n"
   ]
  },
  {
   "cell_type": "code",
   "execution_count": 3,
   "metadata": {
    "scrolled": true
   },
   "outputs": [
    {
     "name": "stdout",
     "output_type": "stream",
     "text": [
      "                                          Hypothesis        ICE\n",
      "8  Запустить акцию, дающую скидку на товар в день...  16.200000\n",
      "0  Добавить два новых канала привлечения трафика,...  13.333333\n",
      "7  Добавить форму подписки на все основные страни...  11.200000\n",
      "6  Показать на главной странице баннеры с актуаль...   8.000000\n",
      "2  Добавить блоки рекомендаций товаров на сайт ин...   7.000000\n",
      "1  Запустить собственную службу доставки, что сок...   2.000000\n",
      "5  Добавить страницу отзывов клиентов о магазине,...   1.333333\n",
      "3  Изменить структура категорий, что увеличит кон...   1.125000\n",
      "4  Изменить цвет фона главной страницы, чтобы уве...   1.000000\n"
     ]
    }
   ],
   "source": [
    "data ['ICE'] = data ['Impact'] * data ['Confidence'] / data ['Efforts']\n",
    "\n",
    "print (data[['Hypothesis', 'ICE']].sort_values(by='ICE', ascending=False))\n",
    "\n"
   ]
  },
  {
   "cell_type": "code",
   "execution_count": 4,
   "metadata": {},
   "outputs": [
    {
     "name": "stdout",
     "output_type": "stream",
     "text": [
      "                                          Hypothesis   RICE\n",
      "7  Добавить форму подписки на все основные страни...  112.0\n",
      "2  Добавить блоки рекомендаций товаров на сайт ин...   56.0\n",
      "0  Добавить два новых канала привлечения трафика,...   40.0\n",
      "6  Показать на главной странице баннеры с актуаль...   40.0\n",
      "8  Запустить акцию, дающую скидку на товар в день...   16.2\n",
      "3  Изменить структура категорий, что увеличит кон...    9.0\n",
      "1  Запустить собственную службу доставки, что сок...    4.0\n",
      "5  Добавить страницу отзывов клиентов о магазине,...    4.0\n",
      "4  Изменить цвет фона главной страницы, чтобы уве...    3.0\n"
     ]
    }
   ],
   "source": [
    "data['RICE'] = data['Reach'] * data['Impact'] * data['Confidence']/ data['Efforts']\n",
    "\n",
    "print (data[['Hypothesis', 'RICE']].sort_values( by = 'RICE', ascending = False))"
   ]
  },
  {
   "cell_type": "markdown",
   "metadata": {},
   "source": [
    "1. Приоритизация гипотез изменилась из-за того, что формат ICE не учитывает охвата пользователей.\n",
    "2.При примении RICE вместо ICE было показано, что добавление формы подписки на все основные страницы является наиболее приоритетной гипотизой в сравнении с другими. \n",
    "3. При этом запуск акции, дающей скидку на товар в день оказалась плоховостребованной гипотезой. \n",
    "4. Добавление формы подписки на все остальные страницы охватывает наибольшее количество пользователей. Уверенность в том, что эта мера окажется эффективной достаточно высокая. Кроме того, на нее, судя по всему, нужно потратить много усилий. \n",
    "5. Запуск акции, дающей скидку на товар окажет сильное влияние, но на гораздо более узкую аудиторию. Кроме того, на эту меру так же потребуется много усилий сотрудников"
   ]
  },
  {
   "cell_type": "markdown",
   "metadata": {},
   "source": [
    "Часть № 2. "
   ]
  },
  {
   "cell_type": "code",
   "execution_count": 5,
   "metadata": {},
   "outputs": [
    {
     "name": "stdout",
     "output_type": "stream",
     "text": [
      "<class 'pandas.core.frame.DataFrame'>\n",
      "RangeIndex: 1197 entries, 0 to 1196\n",
      "Data columns (total 5 columns):\n",
      " #   Column         Non-Null Count  Dtype \n",
      "---  ------         --------------  ----- \n",
      " 0   transactionId  1197 non-null   int64 \n",
      " 1   visitorId      1197 non-null   int64 \n",
      " 2   date           1197 non-null   object\n",
      " 3   revenue        1197 non-null   int64 \n",
      " 4   group          1197 non-null   object\n",
      "dtypes: int64(3), object(2)\n",
      "memory usage: 46.9+ KB\n"
     ]
    }
   ],
   "source": [
    "orders = pd.read_csv('/datasets/orders.csv', sep=',')\n",
    "\n",
    "orders.info()"
   ]
  },
  {
   "cell_type": "markdown",
   "metadata": {},
   "source": [
    "Как видно, столбец date сохранен в типе object. Его нужно переписать в формат datetime"
   ]
  },
  {
   "cell_type": "code",
   "execution_count": 6,
   "metadata": {},
   "outputs": [
    {
     "name": "stdout",
     "output_type": "stream",
     "text": [
      "<class 'pandas.core.frame.DataFrame'>\n",
      "RangeIndex: 62 entries, 0 to 61\n",
      "Data columns (total 3 columns):\n",
      " #   Column    Non-Null Count  Dtype \n",
      "---  ------    --------------  ----- \n",
      " 0   date      62 non-null     object\n",
      " 1   group     62 non-null     object\n",
      " 2   visitors  62 non-null     int64 \n",
      "dtypes: int64(1), object(2)\n",
      "memory usage: 1.6+ KB\n"
     ]
    }
   ],
   "source": [
    "visitors =  pd.read_csv('/datasets/visitors.csv', sep=',')\n",
    "\n",
    "visitors.info()"
   ]
  },
  {
   "cell_type": "markdown",
   "metadata": {},
   "source": [
    "То же самое и с датафреймом visitors. Необходимо привести date к datetime"
   ]
  },
  {
   "cell_type": "code",
   "execution_count": 7,
   "metadata": {},
   "outputs": [
    {
     "data": {
      "text/plain": [
       "date        0\n",
       "group       0\n",
       "visitors    0\n",
       "dtype: int64"
      ]
     },
     "execution_count": 7,
     "metadata": {},
     "output_type": "execute_result"
    }
   ],
   "source": [
    "visitors.isna().sum()"
   ]
  },
  {
   "cell_type": "code",
   "execution_count": 8,
   "metadata": {},
   "outputs": [
    {
     "data": {
      "text/plain": [
       "transactionId    0\n",
       "visitorId        0\n",
       "date             0\n",
       "revenue          0\n",
       "group            0\n",
       "dtype: int64"
      ]
     },
     "execution_count": 8,
     "metadata": {},
     "output_type": "execute_result"
    }
   ],
   "source": [
    "orders.isna().sum()"
   ]
  },
  {
   "cell_type": "markdown",
   "metadata": {},
   "source": [
    "Пропусков в обоих датафреймах не обнаружено"
   ]
  },
  {
   "cell_type": "code",
   "execution_count": 9,
   "metadata": {},
   "outputs": [
    {
     "data": {
      "text/plain": [
       "0"
      ]
     },
     "execution_count": 9,
     "metadata": {},
     "output_type": "execute_result"
    }
   ],
   "source": [
    "orders.duplicated().sum()"
   ]
  },
  {
   "cell_type": "code",
   "execution_count": 10,
   "metadata": {},
   "outputs": [
    {
     "data": {
      "text/plain": [
       "0"
      ]
     },
     "execution_count": 10,
     "metadata": {},
     "output_type": "execute_result"
    }
   ],
   "source": [
    "visitors.duplicated().sum()"
   ]
  },
  {
   "cell_type": "markdown",
   "metadata": {},
   "source": [
    "Дубликатов в обоих датафреймах не обнаружено"
   ]
  },
  {
   "cell_type": "code",
   "execution_count": 11,
   "metadata": {},
   "outputs": [],
   "source": [
    "orders['date'] = pd.to_datetime(orders['date'])\n",
    "visitors['date'] = pd.to_datetime(visitors['date'])"
   ]
  },
  {
   "cell_type": "markdown",
   "metadata": {},
   "source": [
    "Привожу оба столба к формату datetime после чего начинаю A/B тестирование"
   ]
  },
  {
   "cell_type": "code",
   "execution_count": 12,
   "metadata": {},
   "outputs": [
    {
     "data": {
      "text/plain": [
       "group    58\n",
       "dtype: int64"
      ]
     },
     "execution_count": 12,
     "metadata": {},
     "output_type": "execute_result"
    }
   ],
   "source": [
    "double_visitors_total = orders.groupby('visitorId').agg({'group':'nunique'}).query('group>1').count()\n",
    "double_visitors_total"
   ]
  },
  {
   "cell_type": "markdown",
   "metadata": {},
   "source": [
    "В таблице orders были обнаружены пользователи в обеих группах. В целом, это может привести к искажению анализу. Но в рамках проекта я их оставлю"
   ]
  },
  {
   "cell_type": "code",
   "execution_count": 13,
   "metadata": {},
   "outputs": [
    {
     "data": {
      "image/png": "[encoded data removed]",
      "text/plain": [
       "<Figure size 648x360 with 1 Axes>"
      ]
     },
     "metadata": {
      "needs_background": "light"
     },
     "output_type": "display_data"
    }
   ],
   "source": [
    "datesGroups = orders[['date', 'group']].drop_duplicates()\n",
    "\n",
    "ordersAggregated = datesGroups.apply(\n",
    "    lambda x: orders[\n",
    "        np.logical_and(\n",
    "            orders['date'] <= x['date'], orders['group'] == x['group']\n",
    "        )\n",
    "    ].agg(\n",
    "        {\n",
    "            'date': 'max',\n",
    "            'group': 'max',\n",
    "            'transactionId': 'nunique',\n",
    "            'visitorId': 'nunique',\n",
    "            'revenue': 'sum',\n",
    "        }\n",
    "    ),\n",
    "    axis=1,\n",
    ").sort_values(by=['date', 'group'])\n",
    "\n",
    "visitorsAggregated = datesGroups.apply(\n",
    "    lambda x: visitors[\n",
    "        np.logical_and(\n",
    "            visitors['date'] <= x['date'], visitors['group'] == x['group']\n",
    "        )\n",
    "    ].agg({'date': 'max', 'group': 'max', 'visitors': 'sum'}),\n",
    "    axis=1,\n",
    ").sort_values(by=['date', 'group'])\n",
    "\n",
    "cumulativeData = ordersAggregated.merge(\n",
    "    visitorsAggregated, left_on=['date', 'group'], right_on=['date', 'group']\n",
    ")\n",
    "cumulativeData.columns = [\n",
    "    'date',\n",
    "    'group',\n",
    "    'orders',\n",
    "    'buyers',\n",
    "    'revenue',\n",
    "    'visitors',\n",
    "]\n",
    "\n",
    "cumulativeRevenueA = cumulativeData[cumulativeData['group']=='A'][['date','revenue', 'orders']]\n",
    "\n",
    "cumulativeRevenueB = cumulativeData[cumulativeData['group']=='B'][['date','revenue', 'orders']]\n",
    "\n",
    "plt.figure(figsize =(9, 5)) \n",
    "\n",
    "plt.plot(cumulativeRevenueA['date'], cumulativeRevenueA['revenue'], label='A')\n",
    "\n",
    "plt.plot(cumulativeRevenueB['date'], cumulativeRevenueB['revenue'], label='B')\n",
    "\n",
    "plt.legend();\n",
    "\n",
    "plt.xlabel('Дата')\n",
    "plt.ylabel('Выручка')\n",
    "plt.title('График кумулятивной выручки по группам.')\n",
    "plt.xticks(rotation=47)\n",
    "plt.show()"
   ]
  },
  {
   "cell_type": "markdown",
   "metadata": {},
   "source": [
    "С середины теста группа B вырывается резко растет и остается лидером до самого конца. Судя по всему, в этот промежуток появились\n",
    "аномально дорогие заказы, что повлияло на результат"
   ]
  },
  {
   "cell_type": "code",
   "execution_count": 14,
   "metadata": {},
   "outputs": [
    {
     "data": {
      "image/png": "[encoded data removed]",
      "text/plain": [
       "<Figure size 648x360 with 1 Axes>"
      ]
     },
     "metadata": {
      "needs_background": "light"
     },
     "output_type": "display_data"
    }
   ],
   "source": [
    "plt.figure(figsize =(9, 5)) \n",
    "\n",
    "plt.plot(cumulativeRevenueA['date'], cumulativeRevenueA['revenue']/cumulativeRevenueA['orders'], label='A')\n",
    "plt.plot(cumulativeRevenueB['date'], cumulativeRevenueB['revenue']/cumulativeRevenueB['orders'], label='B')\n",
    "plt.legend() \n",
    "\n",
    "plt.xlabel('Дата')\n",
    "plt.ylabel('Размер среднего чека')\n",
    "plt.title('График кумулятивного среднего чека по группам')\n",
    "plt.xticks(rotation=47)\n",
    "plt.show()"
   ]
  },
  {
   "cell_type": "markdown",
   "metadata": {},
   "source": [
    "График показывает, что в группе B действительно оказались заказы с аномально высокими средними чеками. Произошло это к середине теста. Тем не менее, к концу в группе B вновь наметилось снижение среднего чека."
   ]
  },
  {
   "cell_type": "code",
   "execution_count": 15,
   "metadata": {},
   "outputs": [
    {
     "data": {
      "image/png": "[encoded data removed]",
      "text/plain": [
       "<Figure size 648x360 with 1 Axes>"
      ]
     },
     "metadata": {
      "needs_background": "light"
     },
     "output_type": "display_data"
    }
   ],
   "source": [
    "mergedCumulativeRevenue = cumulativeRevenueA.merge(cumulativeRevenueB, left_on='date', right_on='date', how='left', suffixes=['A', 'B'])\n",
    "\n",
    "plt.figure(figsize =(9, 5)) \n",
    "\n",
    "plt.plot(mergedCumulativeRevenue['date'], (mergedCumulativeRevenue['revenueB']/mergedCumulativeRevenue['ordersB'])/(mergedCumulativeRevenue['revenueA']/mergedCumulativeRevenue['ordersA'])-1)\n",
    "\n",
    "plt.axhline(y=0, color='black', linestyle='--') \n",
    "\n",
    "plt.xlabel('Дата')\n",
    "plt.ylabel('Изменения кумулятивного среднего чека')\n",
    "plt.title('График относительного изменения кумулятивного среднего чека группы B к группе A')\n",
    "plt.xticks(rotation=47)\n",
    "plt.show()\n"
   ]
  },
  {
   "cell_type": "markdown",
   "metadata": {},
   "source": [
    "График относительного изменения кумулятивного среднего чека группы B к группе A показал, что в нескольких датах средний чек действительно резко менялся. Значит, в эти дни наблюдались аномальные выбросы. Их можно найти"
   ]
  },
  {
   "cell_type": "code",
   "execution_count": 16,
   "metadata": {},
   "outputs": [
    {
     "data": {
      "image/png": "[encoded data removed]",
      "text/plain": [
       "<Figure size 648x360 with 1 Axes>"
      ]
     },
     "metadata": {
      "needs_background": "light"
     },
     "output_type": "display_data"
    }
   ],
   "source": [
    "cumulativeData['conversion'] = cumulativeData['orders']/cumulativeData['visitors']\n",
    "\n",
    "# отделяем данные по группе A\n",
    "cumulativeDataA = cumulativeData[cumulativeData['group']=='A']\n",
    "\n",
    "# отделяем данные по группе B\n",
    "cumulativeDataB = cumulativeData[cumulativeData['group']=='B']\n",
    "\n",
    "plt.figure(figsize =(9, 5)) \n",
    "\n",
    "# строим графики\n",
    "plt.plot(cumulativeDataA['date'], cumulativeDataA['conversion'], label='A')\n",
    "plt.plot(cumulativeDataB['date'], cumulativeDataB['conversion'], label='B')\n",
    "\n",
    "\n",
    "plt.xlabel('Дата')\n",
    "plt.ylabel('Размер средних чеков')\n",
    "plt.title('График кумулятивного среднего количества заказов на посетителя по группам')\n",
    "plt.xticks(rotation=47)\n",
    "plt.ylim(-0.02, 0.05)\n",
    "plt.show()\n",
    "\n"
   ]
  },
  {
   "cell_type": "markdown",
   "metadata": {},
   "source": [
    "Коллебания графиков очень сильные. Несмотря на то, что в начале эксперимента группа B отставала, вскоре она вырвалась вперед и до конца теста находилась в лидерах, хотя и с небольшим снижением. Конверсия средних чеков показывает, что в группе B было значительно больше выручки. Кроме того, сильные коллебания демонстрируют, что не установилась вокруг своего среднего значения "
   ]
  },
  {
   "cell_type": "markdown",
   "metadata": {},
   "source": [
    "Масштаб действительно очень большой. Из-за этого коллебания кажутся значительными. "
   ]
  },
  {
   "cell_type": "code",
   "execution_count": 17,
   "metadata": {},
   "outputs": [
    {
     "data": {
      "image/png": "[encoded data removed]",
      "text/plain": [
       "<Figure size 648x360 with 1 Axes>"
      ]
     },
     "metadata": {
      "needs_background": "light"
     },
     "output_type": "display_data"
    }
   ],
   "source": [
    "mergedCumulativeConversions = cumulativeDataA[['date','conversion']].merge(cumulativeDataB[['date','conversion']], left_on='date', right_on='date', how='left', suffixes=['A', 'B'])\n",
    "\n",
    "plt.figure(figsize =(9, 5)) \n",
    "\n",
    "plt.plot(mergedCumulativeConversions['date'], mergedCumulativeConversions['conversionB']/mergedCumulativeConversions['conversionA']-1, label=\"Относительный прирост конверсии группы B относительно группы A\")\n",
    "plt.legend()\n",
    "\n",
    "plt.axhline(y=0, color='black', linestyle='--')\n",
    "plt.axhline(y=-0.1, color='grey', linestyle='--')\n",
    "\n",
    "plt.xlabel('Дата')\n",
    "plt.ylabel('Изменения кумулятивного среднего чека')\n",
    "plt.title('График относительного изменения кумулятивного среднего количества заказов на посетителя группы B к группе A')\n",
    "plt.xticks(rotation=47)\n",
    "plt.show()\n"
   ]
  },
  {
   "cell_type": "markdown",
   "metadata": {},
   "source": [
    "График относительного различия конверсии между группами показывает, что с самого начала теста группа B вырвалась в лидеры и зафиксировалась где-то в районе 15% относительно группы A."
   ]
  },
  {
   "cell_type": "code",
   "execution_count": 18,
   "metadata": {},
   "outputs": [
    {
     "data": {
      "image/png": "[encoded data removed]",
      "text/plain": [
       "<Figure size 648x360 with 1 Axes>"
      ]
     },
     "metadata": {
      "needs_background": "light"
     },
     "output_type": "display_data"
    }
   ],
   "source": [
    "orders = pd.read_csv('/datasets/orders.csv', sep=',')\n",
    "\n",
    "ordersByUsers = (\n",
    "    orders.groupby('visitorId', as_index=False)\n",
    "    .agg({'transactionId': 'nunique'})\n",
    ")\n",
    "ordersByUsers.columns = ['visitorId', 'orders']\n",
    "\n",
    "x_values = pd.Series(range(0, len(ordersByUsers)))\n",
    "\n",
    "plt.figure(figsize =(9, 5)) \n",
    "\n",
    "plt.scatter(x_values, ordersByUsers['orders']) \n",
    "\n",
    "plt.xlabel('Количество заказов')\n",
    "plt.ylabel('Стоимость заказов')\n",
    "plt.title('Точечный график количества заказов по пользователям')\n",
    "plt.xticks(rotation=47)\n",
    "plt.show()\n"
   ]
  },
  {
   "cell_type": "markdown",
   "metadata": {},
   "source": [
    "Как видно из графика, пользователей заказавших более двух раз меньше остальных. Из этого можно сделать вывод, что именно они являются источником аномалий. "
   ]
  },
  {
   "cell_type": "code",
   "execution_count": 19,
   "metadata": {},
   "outputs": [
    {
     "name": "stdout",
     "output_type": "stream",
     "text": [
      "[2. 4.]\n"
     ]
    }
   ],
   "source": [
    "print(np.percentile(ordersByUsers['orders'], [95, 99])) \n"
   ]
  },
  {
   "cell_type": "markdown",
   "metadata": {},
   "source": [
    "Не более 5% пользователей совершило больше 2 заказов и не более 1 % пользователей совершило больше 4 заказов."
   ]
  },
  {
   "cell_type": "markdown",
   "metadata": {},
   "source": [
    "В качестве границы для отсеивания аномалий выбрано 2 заказа и более"
   ]
  },
  {
   "cell_type": "code",
   "execution_count": 20,
   "metadata": {},
   "outputs": [
    {
     "data": {
      "image/png": "[encoded data removed]",
      "text/plain": [
       "<Figure size 648x360 with 1 Axes>"
      ]
     },
     "metadata": {
      "needs_background": "light"
     },
     "output_type": "display_data"
    }
   ],
   "source": [
    "x_values = pd.Series(range(0, len(orders['revenue'])))\n",
    "\n",
    "plt.figure(figsize =(9, 5)) \n",
    "\n",
    "plt.scatter(x_values, orders['revenue']) \n",
    "\n",
    "plt.ylim([0,150000])\n",
    "\n",
    "plt.xlabel('Количество заказов')\n",
    "plt.ylabel('Стоимость заказов')\n",
    "plt.title('Точечный график стоимостей заказов')\n",
    "plt.xticks(rotation=47)\n",
    "plt.show()\n",
    "\n"
   ]
  },
  {
   "cell_type": "markdown",
   "metadata": {},
   "source": [
    "Как видно из точечного графика, есть  заказы дороже 20000. Заказ дороже 1 млн., само собой, является аномалией. "
   ]
  },
  {
   "cell_type": "code",
   "execution_count": 21,
   "metadata": {},
   "outputs": [
    {
     "name": "stdout",
     "output_type": "stream",
     "text": [
      "[28000.  58233.2]\n"
     ]
    }
   ],
   "source": [
    "print(np.percentile(orders['revenue'], [95, 99])) \n"
   ]
  },
  {
   "cell_type": "markdown",
   "metadata": {},
   "source": [
    "Не более чем 5 % чек дороже 28000. И лишь у 1% чек дороже 58233 рублей"
   ]
  },
  {
   "cell_type": "markdown",
   "metadata": {},
   "source": [
    "В качестве границы аномалий выбраны все заказы дороже 28000"
   ]
  },
  {
   "cell_type": "markdown",
   "metadata": {},
   "source": [
    "Нулевая гипотеза: статистически значимых различий в среднем числе заказов между группами нет\n",
    "\n",
    "Альтернативная гипотеза: статистически значимые различия в среднем числе заказов между группами есть\n",
    "\n",
    "Критический уровень статистической значимости - 0.05\n",
    "\n",
    "Применим статистический критерий Манна-Уитни к полученным выборкам"
   ]
  },
  {
   "cell_type": "code",
   "execution_count": 22,
   "metadata": {},
   "outputs": [
    {
     "name": "stdout",
     "output_type": "stream",
     "text": [
      "0.01679\n",
      "0.138\n"
     ]
    }
   ],
   "source": [
    "orders = pd.read_csv('/datasets/orders.csv', sep=',')\n",
    "\n",
    "orders['date'] = pd.to_datetime(orders['date'])\n",
    "\n",
    "\n",
    "visitors =  pd.read_csv('/datasets/visitors.csv', sep=',')\n",
    "\n",
    "visitors['date'] = pd.to_datetime(visitors['date'])\n",
    "\n",
    "\n",
    "\n",
    "visitorsADaily = visitors[visitors['group'] == 'A'][['date', 'visitors']]\n",
    "visitorsADaily.columns = ['date', 'visitorsPerDateA']\n",
    "\n",
    "visitorsACummulative = visitorsADaily.apply(\n",
    "    lambda x: visitorsADaily[visitorsADaily['date'] <= x['date']].agg(\n",
    "        {'date': 'max', 'visitorsPerDateA': 'sum'}\n",
    "    ),\n",
    "    axis=1,\n",
    ")\n",
    "visitorsACummulative.columns = ['date', 'visitorsCummulativeA']\n",
    "\n",
    "visitorsBDaily = visitors[visitors['group'] == 'B'][['date', 'visitors']]\n",
    "visitorsBDaily.columns = ['date', 'visitorsPerDateB']\n",
    "\n",
    "visitorsBCummulative = visitorsBDaily.apply(\n",
    "    lambda x: visitorsBDaily[visitorsBDaily['date'] <= x['date']].agg(\n",
    "        {'date': 'max', 'visitorsPerDateB': 'sum'}\n",
    "    ),\n",
    "    axis=1,\n",
    ")\n",
    "visitorsBCummulative.columns = ['date', 'visitorsCummulativeB']\n",
    "\n",
    "ordersADaily = (\n",
    "    orders[orders['group'] == 'A'][['date', 'transactionId', 'visitorId', 'revenue']]\n",
    "    .groupby('date', as_index=False)\n",
    "    .agg({'transactionId': pd.Series.nunique, 'revenue': 'sum'})\n",
    ")\n",
    "ordersADaily.columns = ['date', 'ordersPerDateA', 'revenuePerDateA']\n",
    "\n",
    "ordersACummulative = ordersADaily.apply(\n",
    "    lambda x: ordersADaily[ordersADaily['date'] <= x['date']].agg(\n",
    "        {'date': 'max', 'ordersPerDateA': 'sum', 'revenuePerDateA': 'sum'}\n",
    "    ),\n",
    "    axis=1,\n",
    ").sort_values(by=['date'])\n",
    "ordersACummulative.columns = [\n",
    "    'date',\n",
    "    'ordersCummulativeA',\n",
    "    'revenueCummulativeA',\n",
    "]\n",
    "\n",
    "ordersBDaily = (\n",
    "    orders[orders['group'] == 'B'][['date', 'transactionId', 'visitorId', 'revenue']]\n",
    "    .groupby('date', as_index=False)\n",
    "    .agg({'transactionId': pd.Series.nunique, 'revenue': 'sum'})\n",
    ")\n",
    "ordersBDaily.columns = ['date', 'ordersPerDateB', 'revenuePerDateB']\n",
    "\n",
    "ordersBCummulative = ordersBDaily.apply(\n",
    "    lambda x: ordersBDaily[ordersBDaily['date'] <= x['date']].agg(\n",
    "        {'date': 'max', 'ordersPerDateB': 'sum', 'revenuePerDateB': 'sum'}\n",
    "    ),\n",
    "    axis=1,\n",
    ").sort_values(by=['date'])\n",
    "ordersBCummulative.columns = [\n",
    "    'date',\n",
    "    'ordersCummulativeB',\n",
    "    'revenueCummulativeB',\n",
    "]\n",
    "\n",
    "data = (\n",
    "    ordersADaily.merge(\n",
    "        ordersBDaily, left_on='date', right_on='date', how='left'\n",
    "    )\n",
    "    .merge(ordersACummulative, left_on='date', right_on='date', how='left')\n",
    "    .merge(ordersBCummulative, left_on='date', right_on='date', how='left')\n",
    "    .merge(visitorsADaily, left_on='date', right_on='date', how='left')\n",
    "    .merge(visitorsBDaily, left_on='date', right_on='date', how='left')\n",
    "    .merge(visitorsACummulative, left_on='date', right_on='date', how='left')\n",
    "    .merge(visitorsBCummulative, left_on='date', right_on='date', how='left')\n",
    ")\n",
    "\n",
    "\n",
    "\n",
    "ordersByUsersA = (\n",
    "    orders[orders['group'] == 'A']\n",
    "    .groupby('visitorId', as_index=False)\n",
    "    .agg({'transactionId': pd.Series.nunique})\n",
    ")\n",
    "ordersByUsersA.columns = ['visitorId', 'orders']\n",
    "\n",
    "ordersByUsersB = (\n",
    "    orders[orders['group'] == 'B']\n",
    "    .groupby('visitorId', as_index=False)\n",
    "    .agg({'transactionId': pd.Series.nunique})\n",
    ")\n",
    "ordersByUsersB.columns = ['visitorId', 'orders']\n",
    "\n",
    "sampleA = pd.concat(\n",
    "    [\n",
    "        ordersByUsersA['orders'],\n",
    "        pd.Series(\n",
    "            0,\n",
    "            index=np.arange(\n",
    "                data['visitorsPerDateA'].sum() - len(ordersByUsersA['orders'])\n",
    "            ),\n",
    "            name='orders',\n",
    "        ),\n",
    "    ],\n",
    "    axis=0,\n",
    ")\n",
    "\n",
    "sampleB = pd.concat(\n",
    "    [\n",
    "        ordersByUsersB['orders'],\n",
    "        pd.Series(\n",
    "            0,\n",
    "            index=np.arange(\n",
    "                data['visitorsPerDateB'].sum() - len(ordersByUsersB['orders'])\n",
    "            ),\n",
    "            name='orders',\n",
    "        ),\n",
    "    ],\n",
    "    axis=0,\n",
    ")\n",
    "\n",
    "print(\"{0:.5f}\".format(st.mannwhitneyu(sampleA, sampleB)[1]))\n",
    "\n",
    "print(\"{0:.3f}\".format(sampleB.mean() / sampleA.mean() - 1))"
   ]
  },
  {
   "cell_type": "markdown",
   "metadata": {},
   "source": [
    "P-value ниже 0.05.  Нулевую гипотезу о том, что статистически значимых различий в среднем числе заказов между группами нет, отвергаем. Относительный выигрыш группы B равен 13.8% — второе число в выводе."
   ]
  },
  {
   "cell_type": "markdown",
   "metadata": {},
   "source": [
    "Нулевая гипотеза: в среднем чеке есть различия\n",
    "\n",
    "Альтернативная гипотеза: в среднем чеке нет различий\n",
    "\n",
    "Критический уровень статистической значимости - 0.05\n",
    "\n",
    "Применим статистический критерий Манна-Уитни\n"
   ]
  },
  {
   "cell_type": "code",
   "execution_count": 23,
   "metadata": {},
   "outputs": [
    {
     "name": "stdout",
     "output_type": "stream",
     "text": [
      "0.729\n",
      "0.259\n"
     ]
    }
   ],
   "source": [
    "print('{0:.3f}'.format(st.mannwhitneyu(orders[orders['group']=='A']['revenue'], orders[orders['group']=='B']['revenue'])[1]))\n",
    "print('{0:.3f}'.format(orders[orders['group']=='B']['revenue'].mean()/orders[orders['group']=='A']['revenue'].mean()-1)) "
   ]
  },
  {
   "cell_type": "markdown",
   "metadata": {},
   "source": [
    "P-value значительно больше 0.05. Значит, причин отвергать нулевую гипотезу и считать, что в среднем чеке есть различия, нет. Средний чек группы B значительно выше среднего чека группы A - 25.9% "
   ]
  },
  {
   "cell_type": "code",
   "execution_count": 24,
   "metadata": {},
   "outputs": [],
   "source": [
    "usersWithManyOrders = pd.concat(\n",
    "    [\n",
    "        ordersByUsersA[ordersByUsersA['orders'] > 2]['visitorId'],\n",
    "        ordersByUsersB[ordersByUsersB['orders'] > 2]['visitorId'],\n",
    "    ],\n",
    "    axis=0,\n",
    ")\n",
    "usersWithExpensiveOrders = orders[orders['revenue'] > 28000]['visitorId']\n",
    "abnormalUsers = (\n",
    "    pd.concat([usersWithManyOrders, usersWithExpensiveOrders], axis=0)\n",
    "    .drop_duplicates()\n",
    "    .sort_values()\n",
    ")"
   ]
  },
  {
   "cell_type": "code",
   "execution_count": 25,
   "metadata": {},
   "outputs": [
    {
     "name": "stdout",
     "output_type": "stream",
     "text": [
      "74\n"
     ]
    }
   ],
   "source": [
    "print(abnormalUsers.shape[0]) \n"
   ]
  },
  {
   "cell_type": "markdown",
   "metadata": {},
   "source": [
    "Количество аномальный пользователей составляет 74"
   ]
  },
  {
   "cell_type": "markdown",
   "metadata": {},
   "source": [
    "Нулевая гипотеза: статистически значимых различий в среднем числе заказов между группами нет\n",
    "\n",
    "Альтернативная гипотеза: статистически значимые различия в среднем числе заказов между группами есть\n",
    "\n",
    "Критический уровень статистической значимости - 0.05\n",
    "\n",
    "Применим статистический критерий Манна-Уитни к полученным выборкам"
   ]
  },
  {
   "cell_type": "code",
   "execution_count": 26,
   "metadata": {},
   "outputs": [],
   "source": [
    "sampleAFiltered = pd.concat(\n",
    "    [\n",
    "        ordersByUsersA[\n",
    "            np.logical_not(ordersByUsersA['visitorId'].isin(abnormalUsers))\n",
    "        ]['orders'],\n",
    "        pd.Series(\n",
    "            0,\n",
    "            index=np.arange(\n",
    "                data['visitorsPerDateA'].sum() - len(ordersByUsersA['orders'])\n",
    "            ),\n",
    "            name='orders',\n",
    "        ),\n",
    "    ],\n",
    "    axis=0,\n",
    ")\n",
    "\n",
    "sampleBFiltered = pd.concat(\n",
    "    [\n",
    "        ordersByUsersB[\n",
    "            np.logical_not(ordersByUsersB['visitorId'].isin(abnormalUsers))\n",
    "        ]['orders'],\n",
    "        pd.Series(\n",
    "            0,\n",
    "            index=np.arange(\n",
    "                data['visitorsPerDateB'].sum() - len(ordersByUsersB['orders'])\n",
    "            ),\n",
    "            name='orders',\n",
    "        ),\n",
    "    ],\n",
    "    axis=0,\n",
    ") "
   ]
  },
  {
   "cell_type": "code",
   "execution_count": 27,
   "metadata": {
    "scrolled": true
   },
   "outputs": [
    {
     "name": "stdout",
     "output_type": "stream",
     "text": [
      "0.013\n",
      "0.173\n"
     ]
    }
   ],
   "source": [
    "print('{0:.3f}'.format(st.mannwhitneyu(sampleAFiltered, sampleBFiltered)[1]))\n",
    "print('{0:.3f}'.format(sampleBFiltered.mean()/sampleAFiltered.mean()-1)) "
   ]
  },
  {
   "cell_type": "markdown",
   "metadata": {},
   "source": [
    "Результат по среднему чеку незначительно изменился. По сравнению с сырыми данными, увеличился P-value и относительный выигрышь группы B. Нулевую гипотезу отвергаем"
   ]
  },
  {
   "cell_type": "markdown",
   "metadata": {},
   "source": [
    "Нулевая гипотеза: в среднем чеке есть различия\n",
    "\n",
    "Альтернативная гипотеза: в среднем чеке нет различий\n",
    "\n",
    "Критический уровень статистической значимости - 0.05\n",
    "\n",
    "Применим статистический критерий Манна-Уитни"
   ]
  },
  {
   "cell_type": "code",
   "execution_count": 28,
   "metadata": {},
   "outputs": [
    {
     "name": "stdout",
     "output_type": "stream",
     "text": [
      "0.738\n",
      "-0.020\n"
     ]
    }
   ],
   "source": [
    "print(\n",
    "    '{0:.3f}'.format(\n",
    "        st.mannwhitneyu(\n",
    "            orders[\n",
    "                np.logical_and(\n",
    "                    orders['group'] == 'A',\n",
    "                    np.logical_not(orders['visitorId'].isin(abnormalUsers)),\n",
    "                )\n",
    "            ]['revenue'],\n",
    "            orders[\n",
    "                np.logical_and(\n",
    "                    orders['group'] == 'B',\n",
    "                    np.logical_not(orders['visitorId'].isin(abnormalUsers)),\n",
    "                )\n",
    "            ]['revenue'],\n",
    "        )[1]\n",
    "    )\n",
    ")\n",
    "\n",
    "print(\n",
    "    \"{0:.3f}\".format(\n",
    "        orders[\n",
    "            np.logical_and(\n",
    "                orders['group'] == 'B',\n",
    "                np.logical_not(orders['visitorId'].isin(abnormalUsers)),\n",
    "            )\n",
    "        ]['revenue'].mean()\n",
    "        / orders[\n",
    "            np.logical_and(\n",
    "                orders['group'] == 'A',\n",
    "                np.logical_not(orders['visitorId'].isin(abnormalUsers)),\n",
    "            )\n",
    "        ]['revenue'].mean()\n",
    "        - 1\n",
    "    )\n",
    ") \n"
   ]
  },
  {
   "cell_type": "markdown",
   "metadata": {},
   "source": [
    "После удаления аномалий немного вырос P-value и значительно сократился средний чек группы B, уйдя в минус на 0.2%. Таким образом статистических различий между двумя группами после удаления аномалий нет. Нулевую гипотезу сохраняем"
   ]
  },
  {
   "cell_type": "markdown",
   "metadata": {},
   "source": [
    "Результаты проведения теста:\n",
    "\n",
    "1. Между группами по сырым данным существуют статистические занимые различия. Относительный выигрышь группы B при этом составил 13.8%. \n",
    "2. После очистки сырых данных от аномалий, статистические значимые различия сохранились. При этом выигрышь группы B только увеличился.\n",
    "3. До удаления аномальных данных существовали статистические значимые различия в стоимости средних чеков. Эти различия сохранились и после удаление аномальных данных. \n",
    "4. Важно, что выигрышь группы B после удаления аномальных данных исчез. \n",
    "\n"
   ]
  },
  {
   "cell_type": "markdown",
   "metadata": {},
   "source": [
    "На мой взгляд можно продолжить тестирование, потому что конверсия не пришла к среднему значению и сильно колебалась, а после проведения тестирования оказалось, что группа A даже прогигрывает группе A"
   ]
  },
  {
   "cell_type": "markdown",
   "metadata": {},
   "source": [
    "В свете дополнительной работы было принято решение остановить тест"
   ]
  },
  {
   "cell_type": "markdown",
   "metadata": {},
   "source": [
    "Как показал тест, выручка в группе B превышает группу А при сохранении почти одинакового чека. Кроме того, график куммулятивного среднего количество заказов стремиться к норме, что подтверждает правильность выводов итогов тестирования "
   ]
  },
  {
   "cell_type": "markdown",
   "metadata": {},
   "source": [
    "Итоги: \n",
    "\n",
    "1 часть. \n",
    "\n",
    "1. Приоритизация гипотез изменилась из-за того, что формат ICE не учитывает охвата пользователей.\n",
    "2. При примении RICE вместо ICE было показано, что добавление формы подписки на все основные страницы является наиболее\n",
    "3. приоритетной гипотизой в сравнении с другими.\n",
    "4. При этом запуск акции, дающей скидку на товар в день оказалась плоховостребованной гипотезой.\n",
    "5. Добавление формы подписки на все остальные страницы охватывает наибольшее количество пользователей. Уверенность в том, что эта мера окажется эффективной достаточно высокая. Кроме того, на нее, судя по всему, нужно потратить много усилий.\n",
    "6. Запуск акции, дающей скидку на товар окажет сильное влияние, но на гораздо более узкую аудиторию. Кроме того, на эту меру так же потребуется много усилий сотрудников\n",
    "\n",
    "2 часть. \n",
    "\n",
    "1.Между группами по сырым данным существуют статистические занимые различия. Относительный выигрышь группы B при этом составил 13.8%.\n",
    "2. После очистки сырых данных от аномалий, статистические значимые различия сохранились. При этом выигрышь группы B только увеличился.\n",
    "3. До удаления аномальных данных существовали статистические значимые различия в стоимости средних чеков. Эти различия сохранились и после удаление аномальных данных.\n",
    "Важно, что выигрышь группы B после удаления аномальных данных исчез.\n",
    "\n",
    "Тест можно продолжить "
   ]
  },
  {
   "cell_type": "code",
   "execution_count": null,
   "metadata": {},
   "outputs": [],
   "source": []
  }
 ],
 "metadata": {
  "ExecuteTimeLog": [
   {
    "duration": 828,
    "start_time": "2023-05-18T13:23:00.305Z"
   },
   {
    "duration": 114,
    "start_time": "2023-05-18T13:23:36.384Z"
   },
   {
    "duration": 249,
    "start_time": "2023-05-18T13:23:56.906Z"
   },
   {
    "duration": 94,
    "start_time": "2023-05-18T13:23:57.609Z"
   },
   {
    "duration": 22,
    "start_time": "2023-05-18T13:24:03.081Z"
   },
   {
    "duration": 13,
    "start_time": "2023-05-18T13:31:47.973Z"
   },
   {
    "duration": 10,
    "start_time": "2023-05-18T13:33:01.264Z"
   },
   {
    "duration": 5,
    "start_time": "2023-05-18T14:01:45.639Z"
   },
   {
    "duration": 43,
    "start_time": "2023-05-18T14:01:46.362Z"
   },
   {
    "duration": 13,
    "start_time": "2023-05-18T14:01:47.207Z"
   },
   {
    "duration": 19,
    "start_time": "2023-05-18T14:01:48.204Z"
   },
   {
    "duration": 519,
    "start_time": "2023-05-18T14:03:06.507Z"
   },
   {
    "duration": 447,
    "start_time": "2023-05-18T14:03:44.464Z"
   },
   {
    "duration": 531,
    "start_time": "2023-05-18T14:04:54.296Z"
   },
   {
    "duration": 838,
    "start_time": "2023-05-18T14:07:13.708Z"
   },
   {
    "duration": 141,
    "start_time": "2023-05-18T14:16:59.601Z"
   },
   {
    "duration": 107,
    "start_time": "2023-05-18T14:17:17.387Z"
   },
   {
    "duration": 1129,
    "start_time": "2023-05-18T14:18:02.104Z"
   },
   {
    "duration": 80,
    "start_time": "2023-05-18T14:19:22.309Z"
   },
   {
    "duration": 64,
    "start_time": "2023-05-18T14:19:36.184Z"
   },
   {
    "duration": 99,
    "start_time": "2023-05-18T14:19:49.622Z"
   },
   {
    "duration": 41,
    "start_time": "2023-05-18T14:20:58.705Z"
   },
   {
    "duration": 7,
    "start_time": "2023-05-18T14:22:45.909Z"
   },
   {
    "duration": 17,
    "start_time": "2023-05-18T14:23:01.301Z"
   },
   {
    "duration": 512,
    "start_time": "2023-05-18T14:23:50.221Z"
   },
   {
    "duration": 34,
    "start_time": "2023-05-18T14:24:50.577Z"
   },
   {
    "duration": 223,
    "start_time": "2023-05-18T14:27:46.692Z"
   },
   {
    "duration": 227,
    "start_time": "2023-05-18T14:34:49.564Z"
   },
   {
    "duration": 220,
    "start_time": "2023-05-18T14:36:42.810Z"
   },
   {
    "duration": 7,
    "start_time": "2023-05-18T14:36:49.440Z"
   },
   {
    "duration": 243,
    "start_time": "2023-05-18T14:36:50.075Z"
   },
   {
    "duration": 278,
    "start_time": "2023-05-18T14:37:15.147Z"
   },
   {
    "duration": 232,
    "start_time": "2023-05-18T14:37:23.074Z"
   },
   {
    "duration": 10,
    "start_time": "2023-05-18T14:43:17.692Z"
   },
   {
    "duration": 302,
    "start_time": "2023-05-18T14:43:18.693Z"
   },
   {
    "duration": 20,
    "start_time": "2023-05-18T14:44:04.655Z"
   },
   {
    "duration": 11,
    "start_time": "2023-05-18T14:46:53.677Z"
   },
   {
    "duration": 11,
    "start_time": "2023-05-18T14:46:54.982Z"
   },
   {
    "duration": 338,
    "start_time": "2023-05-18T14:46:56.774Z"
   },
   {
    "duration": 16,
    "start_time": "2023-05-18T14:48:06.849Z"
   },
   {
    "duration": 16,
    "start_time": "2023-05-18T14:48:08.077Z"
   },
   {
    "duration": 314,
    "start_time": "2023-05-18T14:48:09.192Z"
   },
   {
    "duration": 20,
    "start_time": "2023-05-18T14:48:30.767Z"
   },
   {
    "duration": 15,
    "start_time": "2023-05-18T14:48:31.481Z"
   },
   {
    "duration": 310,
    "start_time": "2023-05-18T14:48:32.247Z"
   },
   {
    "duration": 224,
    "start_time": "2023-05-18T14:50:28.054Z"
   },
   {
    "duration": 10,
    "start_time": "2023-05-18T14:51:13.452Z"
   },
   {
    "duration": 15,
    "start_time": "2023-05-18T14:51:14.209Z"
   },
   {
    "duration": 374,
    "start_time": "2023-05-18T14:51:15.143Z"
   },
   {
    "duration": 6,
    "start_time": "2023-05-18T14:56:42.094Z"
   },
   {
    "duration": 30,
    "start_time": "2023-05-18T14:56:42.273Z"
   },
   {
    "duration": 16,
    "start_time": "2023-05-18T14:56:42.469Z"
   },
   {
    "duration": 12,
    "start_time": "2023-05-18T14:56:42.603Z"
   },
   {
    "duration": 49,
    "start_time": "2023-05-18T14:56:42.972Z"
   },
   {
    "duration": 28,
    "start_time": "2023-05-18T14:56:43.079Z"
   },
   {
    "duration": 376,
    "start_time": "2023-05-18T14:56:43.270Z"
   },
   {
    "duration": 0,
    "start_time": "2023-05-18T14:56:43.648Z"
   },
   {
    "duration": 207,
    "start_time": "2023-05-18T14:56:45.480Z"
   },
   {
    "duration": 6,
    "start_time": "2023-05-18T14:57:11.353Z"
   },
   {
    "duration": 17,
    "start_time": "2023-05-18T14:57:14.165Z"
   },
   {
    "duration": 227,
    "start_time": "2023-05-18T14:57:15.204Z"
   },
   {
    "duration": 9,
    "start_time": "2023-05-18T14:57:31.678Z"
   },
   {
    "duration": 12,
    "start_time": "2023-05-18T14:57:32.779Z"
   },
   {
    "duration": 361,
    "start_time": "2023-05-18T14:57:33.672Z"
   },
   {
    "duration": 6,
    "start_time": "2023-05-18T14:59:20.881Z"
   },
   {
    "duration": 11,
    "start_time": "2023-05-18T15:00:07.375Z"
   },
   {
    "duration": 8,
    "start_time": "2023-05-18T15:00:11.817Z"
   },
   {
    "duration": 4,
    "start_time": "2023-05-18T15:00:31.170Z"
   },
   {
    "duration": 28,
    "start_time": "2023-05-18T15:00:31.859Z"
   },
   {
    "duration": 8,
    "start_time": "2023-05-18T15:00:32.554Z"
   },
   {
    "duration": 10,
    "start_time": "2023-05-18T15:00:33.307Z"
   },
   {
    "duration": 57,
    "start_time": "2023-05-18T15:00:34.974Z"
   },
   {
    "duration": 33,
    "start_time": "2023-05-18T15:00:36.175Z"
   },
   {
    "duration": 667,
    "start_time": "2023-05-18T15:00:40.981Z"
   },
   {
    "duration": 8,
    "start_time": "2023-05-18T15:01:00.211Z"
   },
   {
    "duration": 7,
    "start_time": "2023-05-18T15:01:03.815Z"
   },
   {
    "duration": 11,
    "start_time": "2023-05-18T15:01:06.074Z"
   },
   {
    "duration": 216,
    "start_time": "2023-05-18T15:01:07.379Z"
   },
   {
    "duration": 3,
    "start_time": "2023-05-18T15:02:18.903Z"
   },
   {
    "duration": 28,
    "start_time": "2023-05-18T15:02:19.600Z"
   },
   {
    "duration": 8,
    "start_time": "2023-05-18T15:02:20.200Z"
   },
   {
    "duration": 10,
    "start_time": "2023-05-18T15:02:21.034Z"
   },
   {
    "duration": 63,
    "start_time": "2023-05-18T15:02:22.876Z"
   },
   {
    "duration": 27,
    "start_time": "2023-05-18T15:02:23.888Z"
   },
   {
    "duration": 8,
    "start_time": "2023-05-18T15:02:27.576Z"
   },
   {
    "duration": 8,
    "start_time": "2023-05-18T15:02:28.610Z"
   },
   {
    "duration": 13,
    "start_time": "2023-05-18T15:02:29.610Z"
   },
   {
    "duration": 296,
    "start_time": "2023-05-18T15:02:30.748Z"
   },
   {
    "duration": 866,
    "start_time": "2023-05-18T15:05:25.768Z"
   },
   {
    "duration": 242,
    "start_time": "2023-05-18T15:05:36.495Z"
   },
   {
    "duration": 279,
    "start_time": "2023-05-18T15:06:02.160Z"
   },
   {
    "duration": 14,
    "start_time": "2023-05-18T15:08:16.981Z"
   },
   {
    "duration": 261,
    "start_time": "2023-05-18T15:08:17.884Z"
   },
   {
    "duration": 7,
    "start_time": "2023-05-18T15:08:33.885Z"
   },
   {
    "duration": 262,
    "start_time": "2023-05-18T15:08:34.675Z"
   },
   {
    "duration": 3,
    "start_time": "2023-05-18T15:11:29.408Z"
   },
   {
    "duration": 26,
    "start_time": "2023-05-18T15:11:29.588Z"
   },
   {
    "duration": 8,
    "start_time": "2023-05-18T15:11:29.780Z"
   },
   {
    "duration": 10,
    "start_time": "2023-05-18T15:11:29.969Z"
   },
   {
    "duration": 57,
    "start_time": "2023-05-18T15:11:30.317Z"
   },
   {
    "duration": 33,
    "start_time": "2023-05-18T15:11:31.190Z"
   },
   {
    "duration": 6,
    "start_time": "2023-05-18T15:11:32.074Z"
   },
   {
    "duration": 222,
    "start_time": "2023-05-18T15:11:32.955Z"
   },
   {
    "duration": 52,
    "start_time": "2023-05-18T19:49:56.848Z"
   },
   {
    "duration": 734,
    "start_time": "2023-05-18T19:50:03.514Z"
   },
   {
    "duration": 76,
    "start_time": "2023-05-18T19:50:04.249Z"
   },
   {
    "duration": 10,
    "start_time": "2023-05-18T19:50:04.959Z"
   },
   {
    "duration": 7,
    "start_time": "2023-05-18T19:50:05.750Z"
   },
   {
    "duration": 111,
    "start_time": "2023-05-18T19:50:07.283Z"
   },
   {
    "duration": 64,
    "start_time": "2023-05-18T19:50:08.054Z"
   },
   {
    "duration": 5,
    "start_time": "2023-05-18T19:50:08.952Z"
   },
   {
    "duration": 463,
    "start_time": "2023-05-18T19:50:10.164Z"
   },
   {
    "duration": 349,
    "start_time": "2023-05-18T19:50:40.880Z"
   },
   {
    "duration": 5,
    "start_time": "2023-05-18T19:50:48.710Z"
   },
   {
    "duration": 292,
    "start_time": "2023-05-18T19:50:49.507Z"
   },
   {
    "duration": 10,
    "start_time": "2023-05-18T19:51:11.249Z"
   },
   {
    "duration": 5,
    "start_time": "2023-05-18T19:51:26.596Z"
   },
   {
    "duration": 341,
    "start_time": "2023-05-18T19:51:27.966Z"
   },
   {
    "duration": 2,
    "start_time": "2023-05-18T19:55:15.800Z"
   },
   {
    "duration": 42,
    "start_time": "2023-05-18T19:55:16.472Z"
   },
   {
    "duration": 7,
    "start_time": "2023-05-18T19:55:16.653Z"
   },
   {
    "duration": 8,
    "start_time": "2023-05-18T19:55:16.808Z"
   },
   {
    "duration": 47,
    "start_time": "2023-05-18T19:55:17.156Z"
   },
   {
    "duration": 20,
    "start_time": "2023-05-18T19:55:17.301Z"
   },
   {
    "duration": 11,
    "start_time": "2023-05-18T19:55:18.272Z"
   },
   {
    "duration": 59,
    "start_time": "2023-05-18T19:57:11.267Z"
   },
   {
    "duration": 21,
    "start_time": "2023-05-18T19:57:11.907Z"
   },
   {
    "duration": 541,
    "start_time": "2023-05-18T19:57:12.883Z"
   },
   {
    "duration": 380,
    "start_time": "2023-05-18T19:57:42.114Z"
   },
   {
    "duration": 33,
    "start_time": "2023-05-18T19:57:42.861Z"
   },
   {
    "duration": 15,
    "start_time": "2023-05-18T19:57:43.687Z"
   },
   {
    "duration": 7,
    "start_time": "2023-05-18T19:57:44.349Z"
   },
   {
    "duration": 68,
    "start_time": "2023-05-18T19:57:45.040Z"
   },
   {
    "duration": 25,
    "start_time": "2023-05-18T19:57:45.178Z"
   },
   {
    "duration": 617,
    "start_time": "2023-05-18T19:57:45.361Z"
   },
   {
    "duration": 146,
    "start_time": "2023-05-18T20:09:01.224Z"
   },
   {
    "duration": 281,
    "start_time": "2023-05-18T20:10:00.066Z"
   },
   {
    "duration": 215,
    "start_time": "2023-05-18T20:11:47.410Z"
   },
   {
    "duration": 211,
    "start_time": "2023-05-18T20:13:22.017Z"
   },
   {
    "duration": 81,
    "start_time": "2023-05-19T13:49:59.223Z"
   },
   {
    "duration": 1410,
    "start_time": "2023-05-19T13:50:05.394Z"
   },
   {
    "duration": 173,
    "start_time": "2023-05-19T13:50:06.806Z"
   },
   {
    "duration": 14,
    "start_time": "2023-05-19T13:50:06.989Z"
   },
   {
    "duration": 8,
    "start_time": "2023-05-19T13:50:07.005Z"
   },
   {
    "duration": 109,
    "start_time": "2023-05-19T13:50:07.015Z"
   },
   {
    "duration": 86,
    "start_time": "2023-05-19T13:50:07.126Z"
   },
   {
    "duration": 987,
    "start_time": "2023-05-19T13:50:07.213Z"
   },
   {
    "duration": 219,
    "start_time": "2023-05-19T13:50:08.202Z"
   },
   {
    "duration": 292,
    "start_time": "2023-05-19T13:50:08.424Z"
   },
   {
    "duration": 230,
    "start_time": "2023-05-19T13:50:08.718Z"
   },
   {
    "duration": 328,
    "start_time": "2023-05-19T13:51:31.251Z"
   },
   {
    "duration": 359,
    "start_time": "2023-05-19T13:53:09.090Z"
   },
   {
    "duration": 279,
    "start_time": "2023-05-19T13:53:27.390Z"
   },
   {
    "duration": 11,
    "start_time": "2023-05-19T13:57:19.814Z"
   },
   {
    "duration": 19,
    "start_time": "2023-05-19T13:58:09.895Z"
   },
   {
    "duration": 14,
    "start_time": "2023-05-19T13:59:23.890Z"
   },
   {
    "duration": 12,
    "start_time": "2023-05-19T14:00:54.743Z"
   },
   {
    "duration": 24,
    "start_time": "2023-05-19T14:01:47.354Z"
   },
   {
    "duration": 22,
    "start_time": "2023-05-19T14:02:09.657Z"
   },
   {
    "duration": 12,
    "start_time": "2023-05-19T14:08:43.531Z"
   },
   {
    "duration": 43,
    "start_time": "2023-05-19T14:14:26.497Z"
   },
   {
    "duration": 312,
    "start_time": "2023-05-19T14:15:13.798Z"
   },
   {
    "duration": 310,
    "start_time": "2023-05-19T14:16:03.338Z"
   },
   {
    "duration": 327,
    "start_time": "2023-05-19T14:16:29.704Z"
   },
   {
    "duration": 120,
    "start_time": "2023-05-19T14:17:21.292Z"
   },
   {
    "duration": 3,
    "start_time": "2023-05-19T14:17:26.700Z"
   },
   {
    "duration": 41,
    "start_time": "2023-05-19T14:17:26.856Z"
   },
   {
    "duration": 10,
    "start_time": "2023-05-19T14:17:27.187Z"
   },
   {
    "duration": 9,
    "start_time": "2023-05-19T14:17:27.218Z"
   },
   {
    "duration": 53,
    "start_time": "2023-05-19T14:17:28.282Z"
   },
   {
    "duration": 32,
    "start_time": "2023-05-19T14:17:29.484Z"
   },
   {
    "duration": 87,
    "start_time": "2023-05-19T14:17:30.354Z"
   },
   {
    "duration": 188,
    "start_time": "2023-05-19T14:17:54.189Z"
   },
   {
    "duration": 282,
    "start_time": "2023-05-19T14:18:22.983Z"
   },
   {
    "duration": 7,
    "start_time": "2023-05-19T14:22:55.297Z"
   },
   {
    "duration": 29,
    "start_time": "2023-05-19T14:22:56.929Z"
   },
   {
    "duration": 521,
    "start_time": "2023-05-19T14:24:44.051Z"
   },
   {
    "duration": 625,
    "start_time": "2023-05-19T14:26:22.599Z"
   },
   {
    "duration": 224,
    "start_time": "2023-05-19T14:26:25.818Z"
   },
   {
    "duration": 327,
    "start_time": "2023-05-19T14:26:27.740Z"
   },
   {
    "duration": 227,
    "start_time": "2023-05-19T14:26:37.648Z"
   },
   {
    "duration": 355,
    "start_time": "2023-05-19T14:26:39.248Z"
   },
   {
    "duration": 200,
    "start_time": "2023-05-19T14:26:42.011Z"
   },
   {
    "duration": 69,
    "start_time": "2023-05-19T14:33:32.144Z"
   },
   {
    "duration": 23,
    "start_time": "2023-05-19T14:33:32.318Z"
   },
   {
    "duration": 6,
    "start_time": "2023-05-19T14:33:32.540Z"
   },
   {
    "duration": 562,
    "start_time": "2023-05-19T14:33:33.683Z"
   },
   {
    "duration": 206,
    "start_time": "2023-05-19T14:33:41.777Z"
   },
   {
    "duration": 297,
    "start_time": "2023-05-19T14:33:42.984Z"
   },
   {
    "duration": 234,
    "start_time": "2023-05-19T14:33:44.383Z"
   },
   {
    "duration": 354,
    "start_time": "2023-05-19T14:33:46.049Z"
   },
   {
    "duration": 190,
    "start_time": "2023-05-19T14:33:49.377Z"
   },
   {
    "duration": 955,
    "start_time": "2023-05-19T14:33:55.099Z"
   },
   {
    "duration": 1071,
    "start_time": "2023-05-19T14:33:56.384Z"
   },
   {
    "duration": 5,
    "start_time": "2023-05-19T14:37:59.550Z"
   },
   {
    "duration": 268,
    "start_time": "2023-05-19T14:39:36.543Z"
   },
   {
    "duration": 844,
    "start_time": "2023-05-19T14:44:09.083Z"
   },
   {
    "duration": 126,
    "start_time": "2023-05-19T14:45:17.191Z"
   },
   {
    "duration": 133,
    "start_time": "2023-05-19T14:45:34.785Z"
   },
   {
    "duration": 144,
    "start_time": "2023-05-19T14:53:55.273Z"
   },
   {
    "duration": 922,
    "start_time": "2023-05-19T14:55:03.184Z"
   },
   {
    "duration": 149,
    "start_time": "2023-05-19T14:55:25.770Z"
   },
   {
    "duration": 5,
    "start_time": "2023-05-19T14:56:47.685Z"
   },
   {
    "duration": 82,
    "start_time": "2023-05-19T15:07:32.278Z"
   },
   {
    "duration": 1233,
    "start_time": "2023-05-19T15:09:42.694Z"
   },
   {
    "duration": 1231,
    "start_time": "2023-05-19T15:10:08.144Z"
   },
   {
    "duration": 1093,
    "start_time": "2023-05-19T15:14:09.308Z"
   },
   {
    "duration": 15,
    "start_time": "2023-05-19T15:25:58.225Z"
   },
   {
    "duration": 135,
    "start_time": "2023-05-19T15:28:33.314Z"
   },
   {
    "duration": 142,
    "start_time": "2023-05-19T15:29:54.830Z"
   },
   {
    "duration": 225,
    "start_time": "2023-05-19T15:31:06.300Z"
   },
   {
    "duration": 229,
    "start_time": "2023-05-19T15:43:37.194Z"
   },
   {
    "duration": 1193,
    "start_time": "2023-05-19T15:45:35.214Z"
   },
   {
    "duration": 229,
    "start_time": "2023-05-19T15:49:03.616Z"
   },
   {
    "duration": 353,
    "start_time": "2023-05-19T15:57:09.932Z"
   },
   {
    "duration": 441,
    "start_time": "2023-05-19T15:58:03.088Z"
   },
   {
    "duration": 451,
    "start_time": "2023-05-19T15:58:39.232Z"
   },
   {
    "duration": 15,
    "start_time": "2023-05-19T16:01:59.676Z"
   },
   {
    "duration": 10,
    "start_time": "2023-05-19T16:03:16.276Z"
   },
   {
    "duration": 9,
    "start_time": "2023-05-19T16:03:18.391Z"
   },
   {
    "duration": 25,
    "start_time": "2023-05-19T16:03:46.618Z"
   },
   {
    "duration": 13,
    "start_time": "2023-05-19T16:07:46.681Z"
   },
   {
    "duration": 14,
    "start_time": "2023-05-19T16:08:39.721Z"
   },
   {
    "duration": 1492,
    "start_time": "2023-05-20T16:54:05.770Z"
   },
   {
    "duration": 145,
    "start_time": "2023-05-20T16:54:07.264Z"
   },
   {
    "duration": 17,
    "start_time": "2023-05-20T16:54:07.432Z"
   },
   {
    "duration": 11,
    "start_time": "2023-05-20T16:54:07.612Z"
   },
   {
    "duration": 105,
    "start_time": "2023-05-20T16:54:08.133Z"
   },
   {
    "duration": 76,
    "start_time": "2023-05-20T16:54:08.316Z"
   },
   {
    "duration": 7,
    "start_time": "2023-05-20T16:54:08.485Z"
   },
   {
    "duration": 640,
    "start_time": "2023-05-20T16:54:08.670Z"
   },
   {
    "duration": 217,
    "start_time": "2023-05-20T16:54:09.313Z"
   },
   {
    "duration": 389,
    "start_time": "2023-05-20T16:54:09.533Z"
   },
   {
    "duration": 235,
    "start_time": "2023-05-20T16:54:09.924Z"
   },
   {
    "duration": 379,
    "start_time": "2023-05-20T16:54:10.161Z"
   },
   {
    "duration": 170,
    "start_time": "2023-05-20T16:54:10.542Z"
   },
   {
    "duration": 7,
    "start_time": "2023-05-20T16:54:10.798Z"
   },
   {
    "duration": 159,
    "start_time": "2023-05-20T16:54:11.159Z"
   },
   {
    "duration": 6,
    "start_time": "2023-05-20T16:54:11.532Z"
   },
   {
    "duration": 109,
    "start_time": "2023-05-20T16:54:11.730Z"
   },
   {
    "duration": 513,
    "start_time": "2023-05-20T16:54:11.892Z"
   },
   {
    "duration": 11,
    "start_time": "2023-05-20T16:54:12.409Z"
   },
   {
    "duration": 25,
    "start_time": "2023-05-20T16:54:12.426Z"
   },
   {
    "duration": 25,
    "start_time": "2023-05-20T16:54:12.593Z"
   },
   {
    "duration": 1239,
    "start_time": "2023-05-20T16:54:12.958Z"
   },
   {
    "duration": 0,
    "start_time": "2023-05-20T16:54:14.199Z"
   },
   {
    "duration": 0,
    "start_time": "2023-05-20T16:54:14.201Z"
   },
   {
    "duration": 2834,
    "start_time": "2023-05-20T16:55:01.828Z"
   },
   {
    "duration": 13,
    "start_time": "2023-05-20T16:55:16.115Z"
   },
   {
    "duration": 12,
    "start_time": "2023-05-20T16:55:21.774Z"
   },
   {
    "duration": 26,
    "start_time": "2023-05-20T16:55:31.573Z"
   },
   {
    "duration": 438,
    "start_time": "2023-05-20T17:04:49.914Z"
   },
   {
    "duration": 11,
    "start_time": "2023-05-20T17:08:15.773Z"
   },
   {
    "duration": 24,
    "start_time": "2023-05-20T17:08:17.192Z"
   },
   {
    "duration": 10,
    "start_time": "2023-05-20T17:08:19.235Z"
   },
   {
    "duration": 37,
    "start_time": "2023-05-20T17:08:20.689Z"
   },
   {
    "duration": 15,
    "start_time": "2023-05-20T17:10:33.095Z"
   },
   {
    "duration": 10,
    "start_time": "2023-05-20T17:12:03.380Z"
   },
   {
    "duration": 14,
    "start_time": "2023-05-20T17:12:04.011Z"
   },
   {
    "duration": 25,
    "start_time": "2023-05-20T17:12:04.883Z"
   },
   {
    "duration": 22,
    "start_time": "2023-05-20T17:16:16.281Z"
   },
   {
    "duration": 529,
    "start_time": "2023-05-20T17:57:16.892Z"
   },
   {
    "duration": 295,
    "start_time": "2023-05-20T17:57:20.118Z"
   },
   {
    "duration": 323,
    "start_time": "2023-05-20T17:57:21.675Z"
   },
   {
    "duration": 274,
    "start_time": "2023-05-20T17:57:22.965Z"
   },
   {
    "duration": 328,
    "start_time": "2023-05-20T17:57:23.316Z"
   },
   {
    "duration": 243,
    "start_time": "2023-05-20T17:57:23.661Z"
   },
   {
    "duration": 6,
    "start_time": "2023-05-20T17:57:23.999Z"
   },
   {
    "duration": 179,
    "start_time": "2023-05-20T17:57:24.361Z"
   },
   {
    "duration": 5,
    "start_time": "2023-05-20T17:57:25.310Z"
   },
   {
    "duration": 568,
    "start_time": "2023-05-20T17:57:25.669Z"
   },
   {
    "duration": 13,
    "start_time": "2023-05-20T17:57:26.240Z"
   },
   {
    "duration": 11,
    "start_time": "2023-05-20T17:57:26.399Z"
   },
   {
    "duration": 10,
    "start_time": "2023-05-20T17:57:27.265Z"
   },
   {
    "duration": 23,
    "start_time": "2023-05-20T17:57:27.408Z"
   },
   {
    "duration": 17,
    "start_time": "2023-05-20T17:57:28.320Z"
   },
   {
    "duration": 1232,
    "start_time": "2023-05-20T18:00:08.304Z"
   },
   {
    "duration": 131,
    "start_time": "2023-05-20T18:00:09.538Z"
   },
   {
    "duration": 22,
    "start_time": "2023-05-20T18:00:09.673Z"
   },
   {
    "duration": 20,
    "start_time": "2023-05-20T18:00:09.698Z"
   },
   {
    "duration": 86,
    "start_time": "2023-05-20T18:00:09.719Z"
   },
   {
    "duration": 24,
    "start_time": "2023-05-20T18:00:09.807Z"
   },
   {
    "duration": 7,
    "start_time": "2023-05-20T18:00:09.833Z"
   },
   {
    "duration": 674,
    "start_time": "2023-05-20T18:00:09.842Z"
   },
   {
    "duration": 219,
    "start_time": "2023-05-20T18:00:10.518Z"
   },
   {
    "duration": 364,
    "start_time": "2023-05-20T18:00:10.740Z"
   },
   {
    "duration": 249,
    "start_time": "2023-05-20T18:00:11.106Z"
   },
   {
    "duration": 363,
    "start_time": "2023-05-20T18:00:11.357Z"
   },
   {
    "duration": 192,
    "start_time": "2023-05-20T18:00:11.722Z"
   },
   {
    "duration": 4,
    "start_time": "2023-05-20T18:00:11.916Z"
   },
   {
    "duration": 194,
    "start_time": "2023-05-20T18:00:11.922Z"
   },
   {
    "duration": 4,
    "start_time": "2023-05-20T18:00:12.118Z"
   },
   {
    "duration": 459,
    "start_time": "2023-05-20T18:00:12.124Z"
   },
   {
    "duration": 18,
    "start_time": "2023-05-20T18:00:12.588Z"
   },
   {
    "duration": 30,
    "start_time": "2023-05-20T18:00:12.608Z"
   },
   {
    "duration": 36,
    "start_time": "2023-05-20T18:00:12.640Z"
   },
   {
    "duration": 69,
    "start_time": "2023-05-20T18:00:12.678Z"
   },
   {
    "duration": 17,
    "start_time": "2023-05-20T18:00:12.749Z"
   },
   {
    "duration": 1034,
    "start_time": "2023-05-21T08:07:39.371Z"
   },
   {
    "duration": 81,
    "start_time": "2023-05-21T08:07:40.407Z"
   },
   {
    "duration": 10,
    "start_time": "2023-05-21T08:07:40.489Z"
   },
   {
    "duration": 8,
    "start_time": "2023-05-21T08:07:40.501Z"
   },
   {
    "duration": 46,
    "start_time": "2023-05-21T08:07:40.511Z"
   },
   {
    "duration": 21,
    "start_time": "2023-05-21T08:07:40.559Z"
   },
   {
    "duration": 5,
    "start_time": "2023-05-21T08:07:40.581Z"
   },
   {
    "duration": 524,
    "start_time": "2023-05-21T08:07:40.587Z"
   },
   {
    "duration": 182,
    "start_time": "2023-05-21T08:07:41.112Z"
   },
   {
    "duration": 269,
    "start_time": "2023-05-21T08:07:41.296Z"
   },
   {
    "duration": 191,
    "start_time": "2023-05-21T08:07:41.566Z"
   },
   {
    "duration": 316,
    "start_time": "2023-05-21T08:07:41.759Z"
   },
   {
    "duration": 152,
    "start_time": "2023-05-21T08:07:42.077Z"
   },
   {
    "duration": 5,
    "start_time": "2023-05-21T08:07:42.232Z"
   },
   {
    "duration": 137,
    "start_time": "2023-05-21T08:07:42.238Z"
   },
   {
    "duration": 4,
    "start_time": "2023-05-21T08:07:42.376Z"
   },
   {
    "duration": 342,
    "start_time": "2023-05-21T08:07:42.382Z"
   },
   {
    "duration": 10,
    "start_time": "2023-05-21T08:07:42.726Z"
   },
   {
    "duration": 8,
    "start_time": "2023-05-21T08:07:42.737Z"
   },
   {
    "duration": 9,
    "start_time": "2023-05-21T08:07:42.746Z"
   },
   {
    "duration": 37,
    "start_time": "2023-05-21T08:07:42.756Z"
   },
   {
    "duration": 12,
    "start_time": "2023-05-21T08:07:42.794Z"
   },
   {
    "duration": 1005,
    "start_time": "2023-05-21T09:05:58.259Z"
   },
   {
    "duration": 68,
    "start_time": "2023-05-21T09:05:59.265Z"
   },
   {
    "duration": 9,
    "start_time": "2023-05-21T09:05:59.335Z"
   },
   {
    "duration": 8,
    "start_time": "2023-05-21T09:05:59.345Z"
   },
   {
    "duration": 43,
    "start_time": "2023-05-21T09:05:59.355Z"
   },
   {
    "duration": 22,
    "start_time": "2023-05-21T09:05:59.400Z"
   },
   {
    "duration": 6,
    "start_time": "2023-05-21T09:05:59.423Z"
   },
   {
    "duration": 505,
    "start_time": "2023-05-21T09:05:59.431Z"
   },
   {
    "duration": 178,
    "start_time": "2023-05-21T09:05:59.937Z"
   },
   {
    "duration": 260,
    "start_time": "2023-05-21T09:06:00.117Z"
   },
   {
    "duration": 199,
    "start_time": "2023-05-21T09:06:00.378Z"
   },
   {
    "duration": 301,
    "start_time": "2023-05-21T09:06:00.578Z"
   },
   {
    "duration": 154,
    "start_time": "2023-05-21T09:06:00.881Z"
   },
   {
    "duration": 5,
    "start_time": "2023-05-21T09:06:01.037Z"
   },
   {
    "duration": 163,
    "start_time": "2023-05-21T09:06:01.043Z"
   },
   {
    "duration": 4,
    "start_time": "2023-05-21T09:06:01.208Z"
   },
   {
    "duration": 406,
    "start_time": "2023-05-21T09:06:01.214Z"
   },
   {
    "duration": 10,
    "start_time": "2023-05-21T09:06:01.621Z"
   },
   {
    "duration": 13,
    "start_time": "2023-05-21T09:06:01.632Z"
   },
   {
    "duration": 12,
    "start_time": "2023-05-21T09:06:01.647Z"
   },
   {
    "duration": 35,
    "start_time": "2023-05-21T09:06:01.661Z"
   },
   {
    "duration": 20,
    "start_time": "2023-05-21T09:06:01.697Z"
   },
   {
    "duration": 1434,
    "start_time": "2023-05-21T09:48:32.054Z"
   },
   {
    "duration": 89,
    "start_time": "2023-05-21T09:48:34.504Z"
   },
   {
    "duration": 16,
    "start_time": "2023-05-21T09:48:35.687Z"
   },
   {
    "duration": 9,
    "start_time": "2023-05-21T09:48:47.331Z"
   },
   {
    "duration": 8,
    "start_time": "2023-05-21T09:48:57.030Z"
   },
   {
    "duration": 9,
    "start_time": "2023-05-21T09:49:01.922Z"
   },
   {
    "duration": 9,
    "start_time": "2023-05-21T09:49:11.201Z"
   },
   {
    "duration": 15,
    "start_time": "2023-05-21T09:49:16.357Z"
   },
   {
    "duration": 3,
    "start_time": "2023-05-21T09:49:27.619Z"
   },
   {
    "duration": 27,
    "start_time": "2023-05-21T09:49:29.605Z"
   },
   {
    "duration": 9,
    "start_time": "2023-05-21T09:49:30.494Z"
   },
   {
    "duration": 12,
    "start_time": "2023-05-21T09:49:37.658Z"
   },
   {
    "duration": 99,
    "start_time": "2023-05-21T09:51:04.793Z"
   },
   {
    "duration": 77,
    "start_time": "2023-05-21T09:51:07.093Z"
   },
   {
    "duration": 11,
    "start_time": "2023-05-21T09:57:39.350Z"
   },
   {
    "duration": 8,
    "start_time": "2023-05-21T09:58:05.016Z"
   },
   {
    "duration": 8,
    "start_time": "2023-05-21T09:58:35.702Z"
   },
   {
    "duration": 7,
    "start_time": "2023-05-21T09:58:36.695Z"
   },
   {
    "duration": 5,
    "start_time": "2023-05-21T10:00:40.834Z"
   },
   {
    "duration": 6,
    "start_time": "2023-05-21T10:01:10.414Z"
   },
   {
    "duration": 7,
    "start_time": "2023-05-21T10:01:22.890Z"
   },
   {
    "duration": 12,
    "start_time": "2023-05-21T10:25:27.343Z"
   },
   {
    "duration": 56,
    "start_time": "2023-05-21T10:28:21.727Z"
   },
   {
    "duration": 104,
    "start_time": "2023-05-21T10:28:47.366Z"
   },
   {
    "duration": 9,
    "start_time": "2023-05-21T10:29:22.270Z"
   },
   {
    "duration": 586,
    "start_time": "2023-05-21T10:33:22.687Z"
   },
   {
    "duration": 537,
    "start_time": "2023-05-21T10:50:24.763Z"
   },
   {
    "duration": 543,
    "start_time": "2023-05-21T10:53:31.994Z"
   },
   {
    "duration": 527,
    "start_time": "2023-05-21T10:53:42.462Z"
   },
   {
    "duration": 281,
    "start_time": "2023-05-21T11:25:07.498Z"
   },
   {
    "duration": 410,
    "start_time": "2023-05-21T11:25:19.920Z"
   },
   {
    "duration": 490,
    "start_time": "2023-05-21T11:25:32.648Z"
   },
   {
    "duration": 284,
    "start_time": "2023-05-21T11:25:40.175Z"
   },
   {
    "duration": 422,
    "start_time": "2023-05-21T11:28:17.482Z"
   },
   {
    "duration": 353,
    "start_time": "2023-05-21T11:28:32.294Z"
   },
   {
    "duration": 324,
    "start_time": "2023-05-21T11:28:55.723Z"
   },
   {
    "duration": 317,
    "start_time": "2023-05-21T11:32:00.077Z"
   },
   {
    "duration": 66,
    "start_time": "2023-05-21T11:37:54.975Z"
   },
   {
    "duration": 366,
    "start_time": "2023-05-21T11:38:21.235Z"
   },
   {
    "duration": 363,
    "start_time": "2023-05-21T11:38:49.324Z"
   },
   {
    "duration": 394,
    "start_time": "2023-05-21T11:41:39.141Z"
   },
   {
    "duration": 463,
    "start_time": "2023-05-21T11:41:50.950Z"
   },
   {
    "duration": 333,
    "start_time": "2023-05-21T11:45:04.680Z"
   },
   {
    "duration": 352,
    "start_time": "2023-05-21T11:45:51.830Z"
   },
   {
    "duration": 334,
    "start_time": "2023-05-21T11:46:10.828Z"
   },
   {
    "duration": 328,
    "start_time": "2023-05-21T11:46:20.687Z"
   },
   {
    "duration": 427,
    "start_time": "2023-05-21T11:47:02.592Z"
   },
   {
    "duration": 325,
    "start_time": "2023-05-21T11:47:20.884Z"
   },
   {
    "duration": 349,
    "start_time": "2023-05-21T11:47:32.387Z"
   },
   {
    "duration": 330,
    "start_time": "2023-05-21T11:47:46.134Z"
   },
   {
    "duration": 373,
    "start_time": "2023-05-21T11:47:59.682Z"
   },
   {
    "duration": 448,
    "start_time": "2023-05-21T11:48:14.152Z"
   },
   {
    "duration": 347,
    "start_time": "2023-05-21T11:48:25.782Z"
   },
   {
    "duration": 478,
    "start_time": "2023-05-21T11:49:24.697Z"
   },
   {
    "duration": 326,
    "start_time": "2023-05-21T11:49:39.355Z"
   },
   {
    "duration": 339,
    "start_time": "2023-05-21T11:49:55.486Z"
   },
   {
    "duration": 376,
    "start_time": "2023-05-21T11:50:15.687Z"
   },
   {
    "duration": 376,
    "start_time": "2023-05-21T11:51:23.874Z"
   },
   {
    "duration": 670,
    "start_time": "2023-05-21T11:52:06.313Z"
   },
   {
    "duration": 681,
    "start_time": "2023-05-21T11:52:43.388Z"
   },
   {
    "duration": 526,
    "start_time": "2023-05-21T11:54:52.115Z"
   },
   {
    "duration": 720,
    "start_time": "2023-05-21T12:00:18.912Z"
   },
   {
    "duration": 458,
    "start_time": "2023-05-21T12:00:45.805Z"
   },
   {
    "duration": 486,
    "start_time": "2023-05-21T12:01:03.339Z"
   },
   {
    "duration": 180,
    "start_time": "2023-05-21T12:02:07.875Z"
   },
   {
    "duration": 171,
    "start_time": "2023-05-21T12:13:48.043Z"
   },
   {
    "duration": 53,
    "start_time": "2023-05-21T12:44:40.498Z"
   },
   {
    "duration": 44,
    "start_time": "2023-05-21T12:44:58.294Z"
   },
   {
    "duration": 11,
    "start_time": "2023-05-21T12:45:12.345Z"
   },
   {
    "duration": 11,
    "start_time": "2023-05-21T12:46:03.446Z"
   },
   {
    "duration": 185,
    "start_time": "2023-05-21T12:47:24.814Z"
   },
   {
    "duration": 5,
    "start_time": "2023-05-21T12:47:27.082Z"
   },
   {
    "duration": 173,
    "start_time": "2023-05-21T12:47:30.139Z"
   },
   {
    "duration": 6,
    "start_time": "2023-05-21T12:47:32.982Z"
   },
   {
    "duration": 450,
    "start_time": "2023-05-21T12:47:36.651Z"
   },
   {
    "duration": 12,
    "start_time": "2023-05-21T12:47:42.313Z"
   },
   {
    "duration": 13,
    "start_time": "2023-05-21T12:47:45.088Z"
   },
   {
    "duration": 8,
    "start_time": "2023-05-21T12:48:02.386Z"
   },
   {
    "duration": 8,
    "start_time": "2023-05-21T12:49:43.597Z"
   },
   {
    "duration": 13,
    "start_time": "2023-05-21T12:49:45.290Z"
   },
   {
    "duration": 37,
    "start_time": "2023-05-21T12:49:46.536Z"
   },
   {
    "duration": 23,
    "start_time": "2023-05-21T12:49:52.204Z"
   },
   {
    "duration": 4,
    "start_time": "2023-05-21T12:51:35.009Z"
   },
   {
    "duration": 310,
    "start_time": "2023-05-21T13:00:04.651Z"
   },
   {
    "duration": 366,
    "start_time": "2023-05-21T13:00:13.001Z"
   },
   {
    "duration": 332,
    "start_time": "2023-05-21T13:00:24.276Z"
   },
   {
    "duration": 318,
    "start_time": "2023-05-21T13:00:34.816Z"
   },
   {
    "duration": 332,
    "start_time": "2023-05-21T13:00:42.894Z"
   },
   {
    "duration": 465,
    "start_time": "2023-05-21T13:01:07.561Z"
   },
   {
    "duration": 331,
    "start_time": "2023-05-21T13:01:15.372Z"
   },
   {
    "duration": 317,
    "start_time": "2023-05-21T13:01:21.962Z"
   },
   {
    "duration": 1381,
    "start_time": "2023-05-21T22:04:27.098Z"
   },
   {
    "duration": 160,
    "start_time": "2023-05-21T22:04:28.482Z"
   },
   {
    "duration": 13,
    "start_time": "2023-05-21T22:04:28.644Z"
   },
   {
    "duration": 12,
    "start_time": "2023-05-21T22:04:28.660Z"
   },
   {
    "duration": 155,
    "start_time": "2023-05-21T22:04:28.674Z"
   },
   {
    "duration": 64,
    "start_time": "2023-05-21T22:04:28.831Z"
   },
   {
    "duration": 9,
    "start_time": "2023-05-21T22:04:28.897Z"
   },
   {
    "duration": 10,
    "start_time": "2023-05-21T22:04:28.908Z"
   },
   {
    "duration": 11,
    "start_time": "2023-05-21T22:04:28.920Z"
   },
   {
    "duration": 7,
    "start_time": "2023-05-21T22:04:28.933Z"
   },
   {
    "duration": 34,
    "start_time": "2023-05-21T22:04:28.942Z"
   },
   {
    "duration": 13,
    "start_time": "2023-05-21T22:04:28.978Z"
   },
   {
    "duration": 686,
    "start_time": "2023-05-21T22:04:28.994Z"
   },
   {
    "duration": 357,
    "start_time": "2023-05-21T22:04:29.685Z"
   },
   {
    "duration": 486,
    "start_time": "2023-05-21T22:04:30.044Z"
   },
   {
    "duration": 349,
    "start_time": "2023-05-21T22:04:30.533Z"
   },
   {
    "duration": 380,
    "start_time": "2023-05-21T22:04:30.885Z"
   },
   {
    "duration": 195,
    "start_time": "2023-05-21T22:04:31.267Z"
   },
   {
    "duration": 9,
    "start_time": "2023-05-21T22:04:31.465Z"
   },
   {
    "duration": 235,
    "start_time": "2023-05-21T22:04:31.477Z"
   },
   {
    "duration": 7,
    "start_time": "2023-05-21T22:04:31.721Z"
   },
   {
    "duration": 581,
    "start_time": "2023-05-21T22:04:31.731Z"
   },
   {
    "duration": 17,
    "start_time": "2023-05-21T22:04:32.314Z"
   },
   {
    "duration": 24,
    "start_time": "2023-05-21T22:04:32.333Z"
   },
   {
    "duration": 49,
    "start_time": "2023-05-21T22:04:32.359Z"
   },
   {
    "duration": 30,
    "start_time": "2023-05-21T22:04:32.410Z"
   },
   {
    "duration": 29,
    "start_time": "2023-05-21T22:04:32.443Z"
   },
   {
    "duration": 27,
    "start_time": "2023-05-21T22:04:32.475Z"
   },
   {
    "duration": 1164,
    "start_time": "2023-05-21T22:31:42.356Z"
   },
   {
    "duration": 104,
    "start_time": "2023-05-21T22:31:43.523Z"
   },
   {
    "duration": 13,
    "start_time": "2023-05-21T22:31:43.629Z"
   },
   {
    "duration": 9,
    "start_time": "2023-05-21T22:31:43.646Z"
   },
   {
    "duration": 48,
    "start_time": "2023-05-21T22:31:43.672Z"
   },
   {
    "duration": 25,
    "start_time": "2023-05-21T22:31:43.722Z"
   },
   {
    "duration": 8,
    "start_time": "2023-05-21T22:31:43.749Z"
   },
   {
    "duration": 11,
    "start_time": "2023-05-21T22:31:43.759Z"
   },
   {
    "duration": 13,
    "start_time": "2023-05-21T22:31:43.772Z"
   },
   {
    "duration": 11,
    "start_time": "2023-05-21T22:31:43.788Z"
   },
   {
    "duration": 18,
    "start_time": "2023-05-21T22:31:43.801Z"
   },
   {
    "duration": 19,
    "start_time": "2023-05-21T22:31:43.822Z"
   },
   {
    "duration": 633,
    "start_time": "2023-05-21T22:31:43.843Z"
   },
   {
    "duration": 241,
    "start_time": "2023-05-21T22:31:44.478Z"
   },
   {
    "duration": 324,
    "start_time": "2023-05-21T22:31:44.721Z"
   },
   {
    "duration": 229,
    "start_time": "2023-05-21T22:31:45.048Z"
   },
   {
    "duration": 361,
    "start_time": "2023-05-21T22:31:45.279Z"
   },
   {
    "duration": 191,
    "start_time": "2023-05-21T22:31:45.642Z"
   },
   {
    "duration": 7,
    "start_time": "2023-05-21T22:31:45.835Z"
   },
   {
    "duration": 232,
    "start_time": "2023-05-21T22:31:45.844Z"
   },
   {
    "duration": 5,
    "start_time": "2023-05-21T22:31:46.078Z"
   },
   {
    "duration": 433,
    "start_time": "2023-05-21T22:31:46.085Z"
   },
   {
    "duration": 11,
    "start_time": "2023-05-21T22:31:46.521Z"
   },
   {
    "duration": 18,
    "start_time": "2023-05-21T22:31:46.534Z"
   },
   {
    "duration": 19,
    "start_time": "2023-05-21T22:31:46.554Z"
   },
   {
    "duration": 14,
    "start_time": "2023-05-21T22:31:46.574Z"
   },
   {
    "duration": 23,
    "start_time": "2023-05-21T22:31:46.590Z"
   },
   {
    "duration": 15,
    "start_time": "2023-05-21T22:31:46.616Z"
   },
   {
    "duration": 50,
    "start_time": "2023-05-22T10:19:52.247Z"
   },
   {
    "duration": 1240,
    "start_time": "2023-05-22T10:20:03.985Z"
   },
   {
    "duration": 117,
    "start_time": "2023-05-22T10:20:05.227Z"
   },
   {
    "duration": 10,
    "start_time": "2023-05-22T10:20:05.345Z"
   },
   {
    "duration": 9,
    "start_time": "2023-05-22T10:20:05.357Z"
   },
   {
    "duration": 103,
    "start_time": "2023-05-22T10:20:05.744Z"
   },
   {
    "duration": 61,
    "start_time": "2023-05-22T10:20:06.101Z"
   },
   {
    "duration": 7,
    "start_time": "2023-05-22T10:20:06.442Z"
   },
   {
    "duration": 6,
    "start_time": "2023-05-22T10:20:06.612Z"
   },
   {
    "duration": 6,
    "start_time": "2023-05-22T10:20:06.977Z"
   },
   {
    "duration": 4,
    "start_time": "2023-05-22T10:20:07.148Z"
   },
   {
    "duration": 6,
    "start_time": "2023-05-22T10:20:07.507Z"
   },
   {
    "duration": 11,
    "start_time": "2023-05-22T10:20:08.359Z"
   },
   {
    "duration": 531,
    "start_time": "2023-05-22T10:20:08.905Z"
   },
   {
    "duration": 214,
    "start_time": "2023-05-22T10:20:10.659Z"
   },
   {
    "duration": 390,
    "start_time": "2023-05-22T10:20:13.673Z"
   },
   {
    "duration": 176,
    "start_time": "2023-05-22T10:20:15.819Z"
   },
   {
    "duration": 346,
    "start_time": "2023-05-22T10:20:18.162Z"
   },
   {
    "duration": 176,
    "start_time": "2023-05-22T10:20:19.460Z"
   },
   {
    "duration": 180,
    "start_time": "2023-05-22T10:24:09.585Z"
   },
   {
    "duration": 1021,
    "start_time": "2023-05-22T10:33:33.410Z"
   },
   {
    "duration": 75,
    "start_time": "2023-05-22T10:33:34.433Z"
   },
   {
    "duration": 10,
    "start_time": "2023-05-22T10:33:34.510Z"
   },
   {
    "duration": 8,
    "start_time": "2023-05-22T10:33:34.522Z"
   },
   {
    "duration": 47,
    "start_time": "2023-05-22T10:33:34.531Z"
   },
   {
    "duration": 21,
    "start_time": "2023-05-22T10:33:34.579Z"
   },
   {
    "duration": 7,
    "start_time": "2023-05-22T10:33:34.601Z"
   },
   {
    "duration": 10,
    "start_time": "2023-05-22T10:33:34.609Z"
   },
   {
    "duration": 6,
    "start_time": "2023-05-22T10:33:34.621Z"
   },
   {
    "duration": 4,
    "start_time": "2023-05-22T10:33:34.629Z"
   },
   {
    "duration": 6,
    "start_time": "2023-05-22T10:33:34.635Z"
   },
   {
    "duration": 11,
    "start_time": "2023-05-22T10:33:34.642Z"
   },
   {
    "duration": 578,
    "start_time": "2023-05-22T10:33:34.654Z"
   },
   {
    "duration": 206,
    "start_time": "2023-05-22T10:33:35.233Z"
   },
   {
    "duration": 323,
    "start_time": "2023-05-22T10:33:35.441Z"
   },
   {
    "duration": 184,
    "start_time": "2023-05-22T10:33:35.774Z"
   },
   {
    "duration": 358,
    "start_time": "2023-05-22T10:33:35.959Z"
   },
   {
    "duration": 170,
    "start_time": "2023-05-22T10:33:36.318Z"
   },
   {
    "duration": 5,
    "start_time": "2023-05-22T10:33:36.490Z"
   },
   {
    "duration": 164,
    "start_time": "2023-05-22T10:33:36.496Z"
   },
   {
    "duration": 12,
    "start_time": "2023-05-22T10:33:36.663Z"
   },
   {
    "duration": 358,
    "start_time": "2023-05-22T10:33:36.677Z"
   },
   {
    "duration": 10,
    "start_time": "2023-05-22T10:33:37.037Z"
   },
   {
    "duration": 8,
    "start_time": "2023-05-22T10:33:37.049Z"
   },
   {
    "duration": 17,
    "start_time": "2023-05-22T10:33:37.059Z"
   },
   {
    "duration": 23,
    "start_time": "2023-05-22T10:33:37.078Z"
   },
   {
    "duration": 24,
    "start_time": "2023-05-22T10:33:37.102Z"
   },
   {
    "duration": 13,
    "start_time": "2023-05-22T10:33:37.128Z"
   },
   {
    "duration": 1059,
    "start_time": "2023-05-22T19:08:19.631Z"
   },
   {
    "duration": 79,
    "start_time": "2023-05-22T19:08:20.692Z"
   },
   {
    "duration": 18,
    "start_time": "2023-05-22T19:08:20.773Z"
   },
   {
    "duration": 21,
    "start_time": "2023-05-22T19:08:20.793Z"
   },
   {
    "duration": 82,
    "start_time": "2023-05-22T19:08:20.816Z"
   },
   {
    "duration": 22,
    "start_time": "2023-05-22T19:08:20.899Z"
   },
   {
    "duration": 7,
    "start_time": "2023-05-22T19:08:20.922Z"
   },
   {
    "duration": 13,
    "start_time": "2023-05-22T19:08:20.931Z"
   },
   {
    "duration": 16,
    "start_time": "2023-05-22T19:08:20.946Z"
   },
   {
    "duration": 5,
    "start_time": "2023-05-22T19:08:20.964Z"
   },
   {
    "duration": 7,
    "start_time": "2023-05-22T19:08:20.970Z"
   },
   {
    "duration": 25,
    "start_time": "2023-05-22T19:08:20.988Z"
   },
   {
    "duration": 597,
    "start_time": "2023-05-22T19:08:21.014Z"
   },
   {
    "duration": 227,
    "start_time": "2023-05-22T19:08:21.612Z"
   },
   {
    "duration": 299,
    "start_time": "2023-05-22T19:08:21.840Z"
   },
   {
    "duration": 214,
    "start_time": "2023-05-22T19:08:22.141Z"
   },
   {
    "duration": 386,
    "start_time": "2023-05-22T19:08:22.357Z"
   },
   {
    "duration": 198,
    "start_time": "2023-05-22T19:08:22.745Z"
   },
   {
    "duration": 5,
    "start_time": "2023-05-22T19:08:22.945Z"
   },
   {
    "duration": 185,
    "start_time": "2023-05-22T19:08:22.951Z"
   },
   {
    "duration": 4,
    "start_time": "2023-05-22T19:08:23.138Z"
   },
   {
    "duration": 412,
    "start_time": "2023-05-22T19:08:23.144Z"
   },
   {
    "duration": 10,
    "start_time": "2023-05-22T19:08:23.558Z"
   },
   {
    "duration": 10,
    "start_time": "2023-05-22T19:08:23.587Z"
   },
   {
    "duration": 8,
    "start_time": "2023-05-22T19:08:23.599Z"
   },
   {
    "duration": 16,
    "start_time": "2023-05-22T19:08:23.608Z"
   },
   {
    "duration": 20,
    "start_time": "2023-05-22T19:08:23.626Z"
   },
   {
    "duration": 39,
    "start_time": "2023-05-22T19:08:23.649Z"
   },
   {
    "duration": 1169,
    "start_time": "2023-05-22T19:17:10.352Z"
   },
   {
    "duration": 89,
    "start_time": "2023-05-22T19:17:11.524Z"
   },
   {
    "duration": 12,
    "start_time": "2023-05-22T19:17:11.615Z"
   },
   {
    "duration": 10,
    "start_time": "2023-05-22T19:17:11.628Z"
   },
   {
    "duration": 47,
    "start_time": "2023-05-22T19:17:11.640Z"
   },
   {
    "duration": 22,
    "start_time": "2023-05-22T19:17:11.689Z"
   },
   {
    "duration": 10,
    "start_time": "2023-05-22T19:17:11.713Z"
   },
   {
    "duration": 7,
    "start_time": "2023-05-22T19:17:11.725Z"
   },
   {
    "duration": 14,
    "start_time": "2023-05-22T19:17:11.734Z"
   },
   {
    "duration": 9,
    "start_time": "2023-05-22T19:17:11.750Z"
   },
   {
    "duration": 6,
    "start_time": "2023-05-22T19:17:11.779Z"
   },
   {
    "duration": 12,
    "start_time": "2023-05-22T19:17:11.787Z"
   },
   {
    "duration": 580,
    "start_time": "2023-05-22T19:17:11.800Z"
   },
   {
    "duration": 215,
    "start_time": "2023-05-22T19:17:12.383Z"
   },
   {
    "duration": 308,
    "start_time": "2023-05-22T19:17:12.599Z"
   },
   {
    "duration": 200,
    "start_time": "2023-05-22T19:17:12.909Z"
   },
   {
    "duration": 319,
    "start_time": "2023-05-22T19:17:13.111Z"
   },
   {
    "duration": 184,
    "start_time": "2023-05-22T19:17:13.432Z"
   },
   {
    "duration": 4,
    "start_time": "2023-05-22T19:17:13.617Z"
   },
   {
    "duration": 168,
    "start_time": "2023-05-22T19:17:13.623Z"
   },
   {
    "duration": 5,
    "start_time": "2023-05-22T19:17:13.792Z"
   },
   {
    "duration": 374,
    "start_time": "2023-05-22T19:17:13.798Z"
   },
   {
    "duration": 11,
    "start_time": "2023-05-22T19:17:14.174Z"
   },
   {
    "duration": 8,
    "start_time": "2023-05-22T19:17:14.187Z"
   },
   {
    "duration": 14,
    "start_time": "2023-05-22T19:17:14.197Z"
   },
   {
    "duration": 9,
    "start_time": "2023-05-22T19:17:14.212Z"
   },
   {
    "duration": 20,
    "start_time": "2023-05-22T19:17:14.223Z"
   },
   {
    "duration": 41,
    "start_time": "2023-05-22T19:17:14.245Z"
   }
  ],
  "kernelspec": {
   "display_name": "Python 3 (ipykernel)",
   "language": "python",
   "name": "python3"
  },
  "language_info": {
   "codemirror_mode": {
    "name": "ipython",
    "version": 3
   },
   "file_extension": ".py",
   "mimetype": "text/x-python",
   "name": "python",
   "nbconvert_exporter": "python",
   "pygments_lexer": "ipython3",
   "version": "3.9.13"
  },
  "toc": {
   "base_numbering": 1,
   "nav_menu": {},
   "number_sections": true,
   "sideBar": true,
   "skip_h1_title": true,
   "title_cell": "Table of Contents",
   "title_sidebar": "Contents",
   "toc_cell": false,
   "toc_position": {},
   "toc_section_display": true,
   "toc_window_display": false
  }
 },
 "nbformat": 4,
 "nbformat_minor": 2
}
